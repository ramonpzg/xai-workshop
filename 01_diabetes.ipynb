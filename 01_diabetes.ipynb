{
 "cells": [
  {
   "cell_type": "markdown",
   "metadata": {},
   "source": [
    "# XAI in Healthcare"
   ]
  },
  {
   "cell_type": "markdown",
   "metadata": {},
   "source": [
    "## Table of Contents"
   ]
  },
  {
   "cell_type": "markdown",
   "metadata": {},
   "source": [
    "1. Overview\n",
    "2. Q&As\n",
    "3. Dependencies\n",
    "4. Data\n",
    "5. Model Training\n",
    "6. Model Evaluation\n",
    "7. Model Interpretation\n",
    "8. Summary\n",
    "9. Exercises"
   ]
  },
  {
   "cell_type": "markdown",
   "metadata": {},
   "source": [
    "## 1. Overview"
   ]
  },
  {
   "cell_type": "markdown",
   "metadata": {},
   "source": [
    "Diabetes is a chronic, metabolic disease characterized by elevated levels \n",
    "of blood glucose (or blood sugar), which leads over time to serious damage to the \n",
    "heart, blood vessels, eyes, kidneys and nerves. There are different kinds of diabetes \n",
    "diseases and, sadly, a lot of people can be living with at least one of them without knowing it.\n",
    "\n",
    "The issue is so pronounced that the International Diabetes Federation said\n",
    "\n",
    "> The IDF Diabetes Atlas (2021) reports that 10.5% of the adult population (20-79 years) \n",
    "has diabetes, with almost half unaware that they are living with the condition. By 2045, \n",
    "IDF projections show that 1 in 8 adults, approximately 783 million, will be living with \n",
    "diabetes, an increase of 46%.\n",
    "\n",
    "That said, imagine we could turn to machine learning to help us detect who might be diabetic \n",
    "and not know it, or who could be closer to becoming one? Wouldn't that be not only ideal, but also \n",
    "desirable by everyone? I think it is but it is important to keep in mind that a simple message \n",
    "with \"Hey, just wanted to tell that you have diabetes!\" won't suffice. Context and a good explanation \n",
    "will go a long way and can also provide the patient with useful information for his/her/their loved \n",
    "ones, should some of the variables causing the illness were to be highly hereditary.\n",
    "\n",
    "With this overview out of the way, let's examine some questions our patients may want to know."
   ]
  },
  {
   "cell_type": "markdown",
   "metadata": {},
   "source": [
    "## 2. Q&As"
   ]
  },
  {
   "cell_type": "markdown",
   "metadata": {},
   "source": [
    "When talking to a professional that used an algorithm to tell me if I am sick or not, I would \n",
    "most certainly ask the following (at the very least).\n",
    "\n",
    "1. Why did I get flagged as diabetic or potentially becoming one in the near future?\n",
    "2. What led to this conclusion?\n",
    "3. What should I do next?\n",
    "\n",
    "Some potential answers \"I\" would like to hear if my doctor was telling me that I have diabetes \n",
    "would be:\n",
    "1. Your level of glucose was extremely high and this, and other variables, contributed towards \n",
    "flagging you as having diabetes. If you had a fasting blood glucose test, a level between 70 \n",
    "and 100 mg/dL (3.9 and 5.6 mmol/L) is considered normal. Yours was at 130.\n",
    "2. The combination of high glucose and blood preassure, your age, and your skin thickness, increased \n",
    "the likelihood of you having diabetes when compare to other patients similar to you.\n",
    "3. We would need to first have you take a few tests to figure out if you this is a false positive or \n",
    "if you indeed have diabetes and, if so, of which kind (type I or type II). In addition, we would \n",
    "be giving you guidelines and steps to take to bring your glucose to normal levels, and we will also \n",
    "ask you to come again soon for more regular check ups.\n",
    "\n",
    "More or less that would make me feel a bit more positive about the situation. Nonetheless, there are \n",
    "many factors leading to diabetes that would take too long to go over so let's get started with our \n",
    "example. 😎"
   ]
  },
  {
   "cell_type": "markdown",
   "metadata": {},
   "source": [
    "## 3. Dependencies"
   ]
  },
  {
   "cell_type": "markdown",
   "metadata": {},
   "source": [
    "Here are the packages we will be using for this examples.\n",
    "\n",
    "- `scikit-learn`\n",
    "- `pandas`\n",
    "- `joblib`\n",
    "- `matplotlib`\n",
    "- `alibi`\n",
    "- `statsmodels`\n",
    "- `mlserver`"
   ]
  },
  {
   "cell_type": "markdown",
   "metadata": {},
   "source": [
    "!pip install scikit-learn pandas joblib matplotlib alibi numpy rich mlserver"
   ]
  },
  {
   "cell_type": "markdown",
   "metadata": {},
   "source": [
    "## 4. Data"
   ]
  },
  {
   "cell_type": "markdown",
   "metadata": {},
   "source": [
    "The dataset we will be using can be downloaded from kaggle \n",
    "[here](https://www.kaggle.com/datasets/akshaydattatraykhare/diabetes-dataset). It is \n",
    "an abreviated version from the **National Institute of Diabetes and Digestive and Kidney \n",
    "Diseases**. This dataset contains a very specific information such as all femaile, over 21, \n",
    "and from a particular region of India, but it can serve as a starting point for a much \n",
    "larger project with many more variables.\n",
    "\n",
    "Why it matters? Machine learning is great at finding patterns in the data, and we should use \n",
    "this tools, with the appropriate measures in place, as best we can to enhance human life. A lot \n",
    "of illnesses become fatal ones due to late detection, therefore, if there is a way to help people \n",
    "of all backgrounds while keeping their information and rights safe and intact, we should be doing \n",
    "what we can to push the needle forward.\n",
    "\n",
    "Description or dictionary of variables.\n",
    "- `Pregnancies` - number of pregnancies.\n",
    "- `Glucose` - glucose level.\n",
    "- `BloodPressure` - blood pressure.\n",
    "- `SkinThickness`\n",
    "- `Insulin` - level of insulin in the blood.\n",
    "- `BMI` - body ass index.\n",
    "- `DiabetesPedigreeFunction`\n",
    "- `Age`\n",
    "- `Outcome` - target variable.\n",
    "\n",
    "Let's get started evaluating loading and evaluating our data."
   ]
  },
  {
   "cell_type": "code",
   "execution_count": 1,
   "metadata": {},
   "outputs": [],
   "source": [
    "from sklearn.model_selection import train_test_split\n",
    "from rich import print\n",
    "import pandas as pd"
   ]
  },
  {
   "cell_type": "code",
   "execution_count": 2,
   "metadata": {},
   "outputs": [
    {
     "data": {
      "text/html": [
       "<div>\n",
       "<style scoped>\n",
       "    .dataframe tbody tr th:only-of-type {\n",
       "        vertical-align: middle;\n",
       "    }\n",
       "\n",
       "    .dataframe tbody tr th {\n",
       "        vertical-align: top;\n",
       "    }\n",
       "\n",
       "    .dataframe thead th {\n",
       "        text-align: right;\n",
       "    }\n",
       "</style>\n",
       "<table border=\"1\" class=\"dataframe\">\n",
       "  <thead>\n",
       "    <tr style=\"text-align: right;\">\n",
       "      <th></th>\n",
       "      <th>Pregnancies</th>\n",
       "      <th>Glucose</th>\n",
       "      <th>BloodPressure</th>\n",
       "      <th>SkinThickness</th>\n",
       "      <th>Insulin</th>\n",
       "      <th>BMI</th>\n",
       "      <th>DiabetesPedigreeFunction</th>\n",
       "      <th>Age</th>\n",
       "      <th>Outcome</th>\n",
       "    </tr>\n",
       "  </thead>\n",
       "  <tbody>\n",
       "    <tr>\n",
       "      <th>0</th>\n",
       "      <td>6</td>\n",
       "      <td>148</td>\n",
       "      <td>72</td>\n",
       "      <td>35</td>\n",
       "      <td>0</td>\n",
       "      <td>33.6</td>\n",
       "      <td>0.627</td>\n",
       "      <td>50</td>\n",
       "      <td>1</td>\n",
       "    </tr>\n",
       "    <tr>\n",
       "      <th>1</th>\n",
       "      <td>1</td>\n",
       "      <td>85</td>\n",
       "      <td>66</td>\n",
       "      <td>29</td>\n",
       "      <td>0</td>\n",
       "      <td>26.6</td>\n",
       "      <td>0.351</td>\n",
       "      <td>31</td>\n",
       "      <td>0</td>\n",
       "    </tr>\n",
       "    <tr>\n",
       "      <th>2</th>\n",
       "      <td>8</td>\n",
       "      <td>183</td>\n",
       "      <td>64</td>\n",
       "      <td>0</td>\n",
       "      <td>0</td>\n",
       "      <td>23.3</td>\n",
       "      <td>0.672</td>\n",
       "      <td>32</td>\n",
       "      <td>1</td>\n",
       "    </tr>\n",
       "    <tr>\n",
       "      <th>3</th>\n",
       "      <td>1</td>\n",
       "      <td>89</td>\n",
       "      <td>66</td>\n",
       "      <td>23</td>\n",
       "      <td>94</td>\n",
       "      <td>28.1</td>\n",
       "      <td>0.167</td>\n",
       "      <td>21</td>\n",
       "      <td>0</td>\n",
       "    </tr>\n",
       "    <tr>\n",
       "      <th>4</th>\n",
       "      <td>0</td>\n",
       "      <td>137</td>\n",
       "      <td>40</td>\n",
       "      <td>35</td>\n",
       "      <td>168</td>\n",
       "      <td>43.1</td>\n",
       "      <td>2.288</td>\n",
       "      <td>33</td>\n",
       "      <td>1</td>\n",
       "    </tr>\n",
       "  </tbody>\n",
       "</table>\n",
       "</div>"
      ],
      "text/plain": [
       "   Pregnancies  Glucose  BloodPressure  SkinThickness  Insulin   BMI  \\\n",
       "0            6      148             72             35        0  33.6   \n",
       "1            1       85             66             29        0  26.6   \n",
       "2            8      183             64              0        0  23.3   \n",
       "3            1       89             66             23       94  28.1   \n",
       "4            0      137             40             35      168  43.1   \n",
       "\n",
       "   DiabetesPedigreeFunction  Age  Outcome  \n",
       "0                     0.627   50        1  \n",
       "1                     0.351   31        0  \n",
       "2                     0.672   32        1  \n",
       "3                     0.167   21        0  \n",
       "4                     2.288   33        1  "
      ]
     },
     "execution_count": 2,
     "metadata": {},
     "output_type": "execute_result"
    }
   ],
   "source": [
    "df = pd.read_csv('data/diabetes/diabetes.csv')\n",
    "df.head()"
   ]
  },
  {
   "cell_type": "code",
   "execution_count": 3,
   "metadata": {},
   "outputs": [],
   "source": [
    "y = df['Outcome']\n",
    "X = df.drop(['Outcome'], axis=1).copy()"
   ]
  },
  {
   "cell_type": "code",
   "execution_count": 4,
   "metadata": {},
   "outputs": [],
   "source": [
    "X_train, X_test, y_train, y_test = train_test_split(X, y, test_size=0.25, random_state=9)"
   ]
  },
  {
   "cell_type": "markdown",
   "metadata": {},
   "source": [
    "## 5. Model Training"
   ]
  },
  {
   "cell_type": "markdown",
   "metadata": {},
   "source": [
    "For this section, we will use a logistic regression because of its high degree of interpretability \n",
    "and ease of use via the packages described two sections back.\n",
    "\n",
    "If you have never used a logistic regression before, you can think of it as a classification \n",
    "algorithm used to predict a binary outcome (e.g. 1 or 0, white or black, cat or not cat, etc).\n",
    "\n",
    "For a quick example, suppose you are an instructor that wants to predict if a student will \n",
    "pass an exam (a binary, yes/no outcome) based on hours studied, previous grades, and, \n",
    "potentially, other variables. Your process might look as follows.\n",
    "\n",
    "1. Convert the output to a probability value between 0-1. This will represent the chance of passing.\n",
    "\n",
    "2. Use a linear model to combine the input features and calculate a 'score'. \n",
    "    \n",
    "    $score = Intercept + HoursStudied * \\beta_1 + PreviousGrades * \\beta_2$\n",
    "\n",
    "3. Step 3: Convert this score to a probability using the logistic function:\n",
    "    \n",
    "    $probability = \\frac{1}{(1 + e^{(-score)})}$\n",
    "    This squashes the score to between 0 and 1.\n",
    "\n",
    "4. If probability > 0.5, predict the student will pass. Otherwise predict they will fail. The \n",
    "probabilities provide a measure of confidence in the binary predictions.\n",
    "\n",
    "While the above example is a shorter version of the process, my hope is that it gives you an intuition \n",
    "for how the method works in practice. \n",
    "\n",
    "Now, let's train our model."
   ]
  },
  {
   "cell_type": "code",
   "execution_count": 17,
   "metadata": {},
   "outputs": [],
   "source": [
    "from sklearn.metrics import confusion_matrix, ConfusionMatrixDisplay\n",
    "from sklearn.linear_model import LogisticRegression\n",
    "import matplotlib.pyplot as plt\n",
    "import seaborn as sns\n",
    "import joblib\n",
    "\n",
    "sns.set(rc={'figure.figsize':(11.7,8.27)})"
   ]
  },
  {
   "cell_type": "markdown",
   "metadata": {},
   "source": [
    "Feel free to experiment with the parameters below."
   ]
  },
  {
   "cell_type": "code",
   "execution_count": 6,
   "metadata": {},
   "outputs": [],
   "source": [
    "lr_cls = LogisticRegression(random_state=0, max_iter=500, verbose=0)"
   ]
  },
  {
   "cell_type": "code",
   "execution_count": 7,
   "metadata": {},
   "outputs": [
    {
     "data": {
      "text/html": [
       "<style>#sk-container-id-1 {color: black;}#sk-container-id-1 pre{padding: 0;}#sk-container-id-1 div.sk-toggleable {background-color: white;}#sk-container-id-1 label.sk-toggleable__label {cursor: pointer;display: block;width: 100%;margin-bottom: 0;padding: 0.3em;box-sizing: border-box;text-align: center;}#sk-container-id-1 label.sk-toggleable__label-arrow:before {content: \"▸\";float: left;margin-right: 0.25em;color: #696969;}#sk-container-id-1 label.sk-toggleable__label-arrow:hover:before {color: black;}#sk-container-id-1 div.sk-estimator:hover label.sk-toggleable__label-arrow:before {color: black;}#sk-container-id-1 div.sk-toggleable__content {max-height: 0;max-width: 0;overflow: hidden;text-align: left;background-color: #f0f8ff;}#sk-container-id-1 div.sk-toggleable__content pre {margin: 0.2em;color: black;border-radius: 0.25em;background-color: #f0f8ff;}#sk-container-id-1 input.sk-toggleable__control:checked~div.sk-toggleable__content {max-height: 200px;max-width: 100%;overflow: auto;}#sk-container-id-1 input.sk-toggleable__control:checked~label.sk-toggleable__label-arrow:before {content: \"▾\";}#sk-container-id-1 div.sk-estimator input.sk-toggleable__control:checked~label.sk-toggleable__label {background-color: #d4ebff;}#sk-container-id-1 div.sk-label input.sk-toggleable__control:checked~label.sk-toggleable__label {background-color: #d4ebff;}#sk-container-id-1 input.sk-hidden--visually {border: 0;clip: rect(1px 1px 1px 1px);clip: rect(1px, 1px, 1px, 1px);height: 1px;margin: -1px;overflow: hidden;padding: 0;position: absolute;width: 1px;}#sk-container-id-1 div.sk-estimator {font-family: monospace;background-color: #f0f8ff;border: 1px dotted black;border-radius: 0.25em;box-sizing: border-box;margin-bottom: 0.5em;}#sk-container-id-1 div.sk-estimator:hover {background-color: #d4ebff;}#sk-container-id-1 div.sk-parallel-item::after {content: \"\";width: 100%;border-bottom: 1px solid gray;flex-grow: 1;}#sk-container-id-1 div.sk-label:hover label.sk-toggleable__label {background-color: #d4ebff;}#sk-container-id-1 div.sk-serial::before {content: \"\";position: absolute;border-left: 1px solid gray;box-sizing: border-box;top: 0;bottom: 0;left: 50%;z-index: 0;}#sk-container-id-1 div.sk-serial {display: flex;flex-direction: column;align-items: center;background-color: white;padding-right: 0.2em;padding-left: 0.2em;position: relative;}#sk-container-id-1 div.sk-item {position: relative;z-index: 1;}#sk-container-id-1 div.sk-parallel {display: flex;align-items: stretch;justify-content: center;background-color: white;position: relative;}#sk-container-id-1 div.sk-item::before, #sk-container-id-1 div.sk-parallel-item::before {content: \"\";position: absolute;border-left: 1px solid gray;box-sizing: border-box;top: 0;bottom: 0;left: 50%;z-index: -1;}#sk-container-id-1 div.sk-parallel-item {display: flex;flex-direction: column;z-index: 1;position: relative;background-color: white;}#sk-container-id-1 div.sk-parallel-item:first-child::after {align-self: flex-end;width: 50%;}#sk-container-id-1 div.sk-parallel-item:last-child::after {align-self: flex-start;width: 50%;}#sk-container-id-1 div.sk-parallel-item:only-child::after {width: 0;}#sk-container-id-1 div.sk-dashed-wrapped {border: 1px dashed gray;margin: 0 0.4em 0.5em 0.4em;box-sizing: border-box;padding-bottom: 0.4em;background-color: white;}#sk-container-id-1 div.sk-label label {font-family: monospace;font-weight: bold;display: inline-block;line-height: 1.2em;}#sk-container-id-1 div.sk-label-container {text-align: center;}#sk-container-id-1 div.sk-container {/* jupyter's `normalize.less` sets `[hidden] { display: none; }` but bootstrap.min.css set `[hidden] { display: none !important; }` so we also need the `!important` here to be able to override the default hidden behavior on the sphinx rendered scikit-learn.org. See: https://github.com/scikit-learn/scikit-learn/issues/21755 */display: inline-block !important;position: relative;}#sk-container-id-1 div.sk-text-repr-fallback {display: none;}</style><div id=\"sk-container-id-1\" class=\"sk-top-container\"><div class=\"sk-text-repr-fallback\"><pre>LogisticRegression(max_iter=500, random_state=0)</pre><b>In a Jupyter environment, please rerun this cell to show the HTML representation or trust the notebook. <br />On GitHub, the HTML representation is unable to render, please try loading this page with nbviewer.org.</b></div><div class=\"sk-container\" hidden><div class=\"sk-item\"><div class=\"sk-estimator sk-toggleable\"><input class=\"sk-toggleable__control sk-hidden--visually\" id=\"sk-estimator-id-1\" type=\"checkbox\" checked><label for=\"sk-estimator-id-1\" class=\"sk-toggleable__label sk-toggleable__label-arrow\">LogisticRegression</label><div class=\"sk-toggleable__content\"><pre>LogisticRegression(max_iter=500, random_state=0)</pre></div></div></div></div></div>"
      ],
      "text/plain": [
       "LogisticRegression(max_iter=500, random_state=0)"
      ]
     },
     "execution_count": 7,
     "metadata": {},
     "output_type": "execute_result"
    }
   ],
   "source": [
    "lr_cls.fit(X_train, y_train)"
   ]
  },
  {
   "cell_type": "markdown",
   "metadata": {},
   "source": [
    "If you don't have the path below, you can create with the following command in the termianl.\n",
    "\n",
    "```sh\n",
    "mkdir -p models/diabetes/\n",
    "```"
   ]
  },
  {
   "cell_type": "code",
   "execution_count": 8,
   "metadata": {},
   "outputs": [],
   "source": [
    "model_path = 'models/diabetes/lr_cls_diabetes.pkl'"
   ]
  },
  {
   "cell_type": "code",
   "execution_count": 9,
   "metadata": {},
   "outputs": [
    {
     "data": {
      "text/plain": [
       "['models/diabetes/lr_cls_diabetes.pkl']"
      ]
     },
     "execution_count": 9,
     "metadata": {},
     "output_type": "execute_result"
    }
   ],
   "source": [
    "joblib.dump(lr_cls, model_path)"
   ]
  },
  {
   "cell_type": "code",
   "execution_count": 10,
   "metadata": {},
   "outputs": [],
   "source": [
    "lr_cls = joblib.load(model_path)"
   ]
  },
  {
   "cell_type": "markdown",
   "metadata": {},
   "source": [
    "Let's do a quick sanity check before we move on to thoroughly evaluating our model. For this, we will \n",
    "pick a random sample from the test dataset."
   ]
  },
  {
   "cell_type": "code",
   "execution_count": 11,
   "metadata": {},
   "outputs": [
    {
     "data": {
      "text/html": [
       "<pre style=\"white-space:pre;overflow-x:auto;line-height:normal;font-family:Menlo,'DejaVu Sans Mono',consolas,'Courier New',monospace\"><span style=\"color: #008080; text-decoration-color: #008080; font-weight: bold\">0</span>\n",
       "</pre>\n"
      ],
      "text/plain": [
       "\u001b[1;36m0\u001b[0m\n"
      ]
     },
     "metadata": {},
     "output_type": "display_data"
    },
    {
     "data": {
      "text/html": [
       "<div>\n",
       "<style scoped>\n",
       "    .dataframe tbody tr th:only-of-type {\n",
       "        vertical-align: middle;\n",
       "    }\n",
       "\n",
       "    .dataframe tbody tr th {\n",
       "        vertical-align: top;\n",
       "    }\n",
       "\n",
       "    .dataframe thead th {\n",
       "        text-align: right;\n",
       "    }\n",
       "</style>\n",
       "<table border=\"1\" class=\"dataframe\">\n",
       "  <thead>\n",
       "    <tr style=\"text-align: right;\">\n",
       "      <th></th>\n",
       "      <th>Pregnancies</th>\n",
       "      <th>Glucose</th>\n",
       "      <th>BloodPressure</th>\n",
       "      <th>SkinThickness</th>\n",
       "      <th>Insulin</th>\n",
       "      <th>BMI</th>\n",
       "      <th>DiabetesPedigreeFunction</th>\n",
       "      <th>Age</th>\n",
       "    </tr>\n",
       "  </thead>\n",
       "  <tbody>\n",
       "    <tr>\n",
       "      <th>698</th>\n",
       "      <td>4</td>\n",
       "      <td>127</td>\n",
       "      <td>88</td>\n",
       "      <td>11</td>\n",
       "      <td>155</td>\n",
       "      <td>34.5</td>\n",
       "      <td>0.598</td>\n",
       "      <td>28</td>\n",
       "    </tr>\n",
       "  </tbody>\n",
       "</table>\n",
       "</div>"
      ],
      "text/plain": [
       "     Pregnancies  Glucose  BloodPressure  SkinThickness  Insulin   BMI  \\\n",
       "698            4      127             88             11      155  34.5   \n",
       "\n",
       "     DiabetesPedigreeFunction  Age  \n",
       "698                     0.598   28  "
      ]
     },
     "execution_count": 11,
     "metadata": {},
     "output_type": "execute_result"
    }
   ],
   "source": [
    "x = X_test.sample(1)\n",
    "y = y_test[x.index[0]]\n",
    "print(y)\n",
    "x"
   ]
  },
  {
   "cell_type": "code",
   "execution_count": 12,
   "metadata": {},
   "outputs": [
    {
     "data": {
      "text/plain": [
       "array([0, 1])"
      ]
     },
     "execution_count": 12,
     "metadata": {},
     "output_type": "execute_result"
    }
   ],
   "source": [
    "lr_cls.classes_"
   ]
  },
  {
   "cell_type": "code",
   "execution_count": 13,
   "metadata": {},
   "outputs": [
    {
     "data": {
      "text/plain": [
       "array([[0.69186038, 0.30813962]])"
      ]
     },
     "execution_count": 13,
     "metadata": {},
     "output_type": "execute_result"
    }
   ],
   "source": [
    "lr_cls.predict_proba(x)"
   ]
  },
  {
   "cell_type": "code",
   "execution_count": 14,
   "metadata": {},
   "outputs": [],
   "source": [
    "y_pred = lr_cls.predict(X_test)"
   ]
  },
  {
   "cell_type": "code",
   "execution_count": 15,
   "metadata": {},
   "outputs": [],
   "source": [
    "cm = confusion_matrix(y_test, y_pred)"
   ]
  },
  {
   "cell_type": "code",
   "execution_count": 18,
   "metadata": {},
   "outputs": [
    {
     "data": {
      "image/png": "[encoded data removed]",
      "text/plain": [
       "<Figure size 1170x827 with 2 Axes>"
      ]
     },
     "metadata": {},
     "output_type": "display_data"
    }
   ],
   "source": [
    "title = 'Confusion matrix for Logistic Regression'\n",
    "disp = ConfusionMatrixDisplay.from_estimator(\n",
    "    lr_cls, X_test, y_test, \n",
    "    display_labels=['Not Diabetic', 'Diabetic'],\n",
    "    cmap=plt.cm.Blues, normalize=None\n",
    ")\n",
    "disp.ax_.set_title(title);"
   ]
  },
  {
   "cell_type": "markdown",
   "metadata": {},
   "source": [
    "## 6. Model Evaluation"
   ]
  },
  {
   "cell_type": "markdown",
   "metadata": {},
   "source": [
    "The first method we will explore is called [Kernel SHAP](https://shap-lrjball.readthedocs.io/en/latest/generated/shap.KernelExplainer.html#:~:text=Kernel%20SHAP%20is%20a%20method,modelfunction%20or%20iml.Model).\n",
    "\n",
    "> It is a model interpretation method that explains individual predictions by determining \n",
    "the contribution of each feature. It uses concepts from game theory and local surrogate models \n",
    "to quantify feature importance.\n",
    "\n",
    "Here's an analogy to understand Kernel SHAP:\n",
    "\n",
    "Imagine a fruit smoothie prediction model. The ingredients are bananas, strawberries, yogurt, \n",
    "and ice. The model predicts how sweet the smoothie will taste.\n",
    "\n",
    "To explain an individual prediction, Kernel SHAP is like asking:\n",
    "\n",
    "\"How much did each ingredient contribute to the overall sweetness?\" \n",
    "\n",
    "It determines the SHAP value, or impact, of each feature by comparing smoothies with and without \n",
    "that ingredient. Bananas may get a high positive SHAP value because they make smoothies much \n",
    "sweeter. Ice may have a negative SHAP value since it dilutes the sweetness. By summing the SHAP \n",
    "values for all features, Kernel SHAP explains the total predicted sweetness. It reveals why \n",
    "the model predicted that particular level of sweetness given those ingredients.\n",
    "\n",
    "Like this, Kernel SHAP attributes the prediction of any complex model to each input feature. The \n",
    "analogy helps convey how it quantifies each feature's contribution, like ingredients in a recipe. This \n",
    "makes model behavior more interpretable.\n",
    "\n",
    "You can learn more about Kernel Shap [here](https://docs.seldon.io/projects/alibi/en/stable/examples/kernel_shap_wine_intro.html).\n",
    "\n",
    "Let's get started implementing `KernelShap`."
   ]
  },
  {
   "cell_type": "code",
   "execution_count": 19,
   "metadata": {},
   "outputs": [],
   "source": [
    "from alibi.explainers import KernelShap\n",
    "import numpy as np"
   ]
  },
  {
   "cell_type": "code",
   "execution_count": 20,
   "metadata": {},
   "outputs": [],
   "source": [
    "explainer = KernelShap(lr_cls.predict_proba, task='classification')"
   ]
  },
  {
   "cell_type": "markdown",
   "metadata": {},
   "source": [
    "Explainers in Alibi work in the same fashion as estimators in sklearn, that is, they follow the \n",
    "`.fit()` and `.predict()` way of doing things so if you are familiar with sklearn, this step will \n",
    "feel familiar to you."
   ]
  },
  {
   "cell_type": "code",
   "execution_count": 21,
   "metadata": {},
   "outputs": [
    {
     "name": "stderr",
     "output_type": "stream",
     "text": [
      "Large datasets can cause slow runtimes for shap. The background dataset provided has 576 records. Consider passing a subset or allowing the algorithm to automatically summarize the data by setting the summarise_background=True orsetting summarise_background to 'auto' which will default to 300 samples!\n",
      "Using 576 background data samples could cause slower run times. Consider using shap.sample(data, K) or shap.kmeans(data, K) to summarize the background as K samples.\n"
     ]
    },
    {
     "data": {
      "text/plain": [
       "KernelShap(meta={\n",
       "  'name': 'KernelShap',\n",
       "  'type': ['blackbox'],\n",
       "  'task': 'classification',\n",
       "  'explanations': ['local', 'global'],\n",
       "  'params': {\n",
       "              'link': 'identity',\n",
       "              'group_names': None,\n",
       "              'grouped': False,\n",
       "              'groups': None,\n",
       "              'weights': None,\n",
       "              'summarise_background': False,\n",
       "              'summarise_result': None,\n",
       "              'transpose': False,\n",
       "              'kwargs': {}}\n",
       "            ,\n",
       "  'version': '0.9.4'}\n",
       ")"
      ]
     },
     "execution_count": 21,
     "metadata": {},
     "output_type": "execute_result"
    }
   ],
   "source": [
    "explainer.fit(X_train)"
   ]
  },
  {
   "cell_type": "markdown",
   "metadata": {},
   "source": [
    "Once we finish creating an explainer, the object we get back gives us a lot of useful information like the one above.\n",
    "\n",
    "Note that, running an explainer in a large batch of data can be quite compute intensive (depending on the \n",
    "explainer of course), so it is good practice to save your models once your code finishes creating them. Let's \n",
    "save ours, load it and test it again."
   ]
  },
  {
   "cell_type": "code",
   "execution_count": 22,
   "metadata": {},
   "outputs": [],
   "source": [
    "explainer_path = 'models/diabetes/lr_cls_explainer.pkl'"
   ]
  },
  {
   "cell_type": "code",
   "execution_count": 23,
   "metadata": {},
   "outputs": [
    {
     "data": {
      "text/plain": [
       "['models/diabetes/lr_cls_explainer.pkl']"
      ]
     },
     "execution_count": 23,
     "metadata": {},
     "output_type": "execute_result"
    }
   ],
   "source": [
    "joblib.dump(explainer, explainer_path)"
   ]
  },
  {
   "cell_type": "code",
   "execution_count": 24,
   "metadata": {},
   "outputs": [],
   "source": [
    "explainer = joblib.load(explainer_path)"
   ]
  },
  {
   "cell_type": "code",
   "execution_count": 25,
   "metadata": {},
   "outputs": [
    {
     "data": {
      "text/html": [
       "<pre style=\"white-space:pre;overflow-x:auto;line-height:normal;font-family:Menlo,'DejaVu Sans Mono',consolas,'Courier New',monospace\"><span style=\"color: #008080; text-decoration-color: #008080; font-weight: bold\">1</span>\n",
       "</pre>\n"
      ],
      "text/plain": [
       "\u001b[1;36m1\u001b[0m\n"
      ]
     },
     "metadata": {},
     "output_type": "display_data"
    },
    {
     "data": {
      "text/html": [
       "<div>\n",
       "<style scoped>\n",
       "    .dataframe tbody tr th:only-of-type {\n",
       "        vertical-align: middle;\n",
       "    }\n",
       "\n",
       "    .dataframe tbody tr th {\n",
       "        vertical-align: top;\n",
       "    }\n",
       "\n",
       "    .dataframe thead th {\n",
       "        text-align: right;\n",
       "    }\n",
       "</style>\n",
       "<table border=\"1\" class=\"dataframe\">\n",
       "  <thead>\n",
       "    <tr style=\"text-align: right;\">\n",
       "      <th></th>\n",
       "      <th>Pregnancies</th>\n",
       "      <th>Glucose</th>\n",
       "      <th>BloodPressure</th>\n",
       "      <th>SkinThickness</th>\n",
       "      <th>Insulin</th>\n",
       "      <th>BMI</th>\n",
       "      <th>DiabetesPedigreeFunction</th>\n",
       "      <th>Age</th>\n",
       "    </tr>\n",
       "  </thead>\n",
       "  <tbody>\n",
       "    <tr>\n",
       "      <th>152</th>\n",
       "      <td>9</td>\n",
       "      <td>156</td>\n",
       "      <td>86</td>\n",
       "      <td>28</td>\n",
       "      <td>155</td>\n",
       "      <td>34.3</td>\n",
       "      <td>1.189</td>\n",
       "      <td>42</td>\n",
       "    </tr>\n",
       "  </tbody>\n",
       "</table>\n",
       "</div>"
      ],
      "text/plain": [
       "     Pregnancies  Glucose  BloodPressure  SkinThickness  Insulin   BMI  \\\n",
       "152            9      156             86             28      155  34.3   \n",
       "\n",
       "     DiabetesPedigreeFunction  Age  \n",
       "152                     1.189   42  "
      ]
     },
     "execution_count": 25,
     "metadata": {},
     "output_type": "execute_result"
    }
   ],
   "source": [
    "x = X_test.sample(1)\n",
    "y = y_test[x.index].iloc[0]\n",
    "print(y)\n",
    "x"
   ]
  },
  {
   "cell_type": "code",
   "execution_count": 26,
   "metadata": {},
   "outputs": [
    {
     "data": {
      "text/plain": [
       "['Pregnancies',\n",
       " 'Glucose',\n",
       " 'BloodPressure',\n",
       " 'SkinThickness',\n",
       " 'Insulin',\n",
       " 'BMI',\n",
       " 'DiabetesPedigreeFunction',\n",
       " 'Age']"
      ]
     },
     "execution_count": 26,
     "metadata": {},
     "output_type": "execute_result"
    }
   ],
   "source": [
    "features = X_train.columns.to_list()\n",
    "features"
   ]
  },
  {
   "cell_type": "markdown",
   "metadata": {},
   "source": [
    "As you might have noticed in the metadata returned to us once we trained our model, `KernelShap` is both \n",
    "local and global, which means that it can be applied to one or many samples at a time. Let's try it on our \n",
    "random sample from above."
   ]
  },
  {
   "cell_type": "code",
   "execution_count": 27,
   "metadata": {},
   "outputs": [
    {
     "data": {
      "application/vnd.jupyter.widget-view+json": {
       "model_id": "5a22ba6ab47d4d23995b4fd8a52f84d0",
       "version_major": 2,
       "version_minor": 0
      },
      "text/plain": [
       "  0%|          | 0/1 [00:00<?, ?it/s]"
      ]
     },
     "metadata": {},
     "output_type": "display_data"
    }
   ],
   "source": [
    "result = explainer.explain(x)"
   ]
  },
  {
   "cell_type": "code",
   "execution_count": 28,
   "metadata": {},
   "outputs": [
    {
     "data": {
      "text/plain": [
       "Explanation(meta={\n",
       "  'name': 'KernelShap',\n",
       "  'type': ['blackbox'],\n",
       "  'task': 'classification',\n",
       "  'explanations': ['local', 'global'],\n",
       "  'params': {\n",
       "              'link': 'identity',\n",
       "              'group_names': None,\n",
       "              'grouped': False,\n",
       "              'groups': None,\n",
       "              'weights': None,\n",
       "              'summarise_background': False,\n",
       "              'summarise_result': False,\n",
       "              'transpose': False,\n",
       "              'kwargs': {}}\n",
       "            ,\n",
       "  'version': '0.9.4'}\n",
       ", data={\n",
       "  'shap_values': [array([[-0.11546255, -0.28077157,  0.03870063, -0.00111757,  0.01664897,\n",
       "        -0.04046945, -0.11483773, -0.02636004]]), array([[ 0.11546255,  0.28077157, -0.03870063,  0.00111757, -0.01664897,\n",
       "         0.04046945,  0.11483773,  0.02636004]])],\n",
       "  'expected_value': array([0.6545117, 0.3454883]),\n",
       "  'categorical_names': {},\n",
       "  'feature_names': [],\n",
       "  'raw': {\n",
       "           'raw_prediction': array([[0.13084239, 0.86915761]]),\n",
       "           'prediction': array([1]),\n",
       "           'instances': array([[  9.   , 156.   ,  86.   ,  28.   , 155.   ,  34.3  ,   1.189,\n",
       "         42.   ]]),\n",
       "           'importances': {\n",
       "                            '0': {\n",
       "                                   'ranked_effect': array([0.28077157, 0.11546255, 0.11483773, 0.04046945, 0.03870063,\n",
       "       0.02636004, 0.01664897, 0.00111757]),\n",
       "                                   'names': ['feature_1', 'feature_0', 'feature_6', 'feature_5', 'feature_2', 'feature_7', 'feature_4', 'feature_3']}\n",
       "                                 ,\n",
       "                            '1': {\n",
       "                                   'ranked_effect': array([0.28077157, 0.11546255, 0.11483773, 0.04046945, 0.03870063,\n",
       "       0.02636004, 0.01664897, 0.00111757]),\n",
       "                                   'names': ['feature_1', 'feature_0', 'feature_6', 'feature_5', 'feature_2', 'feature_7', 'feature_4', 'feature_3']}\n",
       "                                 ,\n",
       "                            'aggregated': {\n",
       "                                            'ranked_effect': array([0.56154315, 0.23092511, 0.22967546, 0.08093889, 0.07740127,\n",
       "       0.05272008, 0.03329794, 0.00223514]),\n",
       "                                            'names': ['feature_1', 'feature_0', 'feature_6', 'feature_5', 'feature_2', 'feature_7', 'feature_4', 'feature_3']}\n",
       "                                          }\n",
       "                          }\n",
       "         }\n",
       ")"
      ]
     },
     "execution_count": 28,
     "metadata": {},
     "output_type": "execute_result"
    }
   ],
   "source": [
    "result"
   ]
  },
  {
   "cell_type": "markdown",
   "metadata": {},
   "source": [
    "What we're interested in is the `shap_values` returned by our explainer. Let's see what these look like."
   ]
  },
  {
   "cell_type": "code",
   "execution_count": 29,
   "metadata": {},
   "outputs": [
    {
     "data": {
      "text/plain": [
       "array([[ 0.11546255,  0.28077157, -0.03870063,  0.00111757, -0.01664897,\n",
       "         0.04046945,  0.11483773,  0.02636004]])"
      ]
     },
     "execution_count": 29,
     "metadata": {},
     "output_type": "execute_result"
    }
   ],
   "source": [
    "result.shap_values[1]"
   ]
  },
  {
   "cell_type": "code",
   "execution_count": 30,
   "metadata": {},
   "outputs": [],
   "source": [
    "def plot_importance(feat_imp, feat_names, class_idx):\n",
    "    df = pd.DataFrame(data=feat_imp, columns=feat_names).sort_values(by=0, axis='columns')\n",
    "    feat_imp, feat_names = df.values[0], df.columns\n",
    "    fig, ax = plt.subplots(figsize=(10, 5))\n",
    "    y_pos = np.arange(len(feat_imp))\n",
    "    ax.barh(y_pos, feat_imp)\n",
    "    ax.set_yticks(y_pos)\n",
    "    ax.set_yticklabels(feat_names, fontsize=15)\n",
    "    ax.invert_yaxis()\n",
    "    ax.set_xlabel(f'Feature effects for class {class_idx}', fontsize=15)\n",
    "    return ax, fig"
   ]
  },
  {
   "cell_type": "code",
   "execution_count": 31,
   "metadata": {},
   "outputs": [
    {
     "data": {
      "image/png": "[encoded data removed]",
      "text/plain": [
       "<Figure size 1000x500 with 1 Axes>"
      ]
     },
     "metadata": {},
     "output_type": "display_data"
    }
   ],
   "source": [
    "plot_importance(result.shap_values[1], features, 'No Diabetes');"
   ]
  },
  {
   "cell_type": "code",
   "execution_count": 32,
   "metadata": {},
   "outputs": [],
   "source": [
    "import shap"
   ]
  },
  {
   "cell_type": "code",
   "execution_count": 33,
   "metadata": {},
   "outputs": [
    {
     "data": {
      "application/vnd.jupyter.widget-view+json": {
       "model_id": "8a738ef8da224dca84ec45f8a9031b1f",
       "version_major": 2,
       "version_minor": 0
      },
      "text/plain": [
       "  0%|          | 0/100 [00:00<?, ?it/s]"
      ]
     },
     "metadata": {},
     "output_type": "display_data"
    }
   ],
   "source": [
    "result = explainer.explain(X_train[:100])"
   ]
  },
  {
   "cell_type": "code",
   "execution_count": 34,
   "metadata": {},
   "outputs": [
    {
     "name": "stderr",
     "output_type": "stream",
     "text": [
      "No data for colormapping provided via 'c'. Parameters 'vmin', 'vmax' will be ignored\n"
     ]
    },
    {
     "data": {
      "image/png": "[encoded data removed]",
      "text/plain": [
       "<Figure size 800x470 with 2 Axes>"
      ]
     },
     "metadata": {},
     "output_type": "display_data"
    }
   ],
   "source": [
    "shap.summary_plot(result.shap_values[0], X_train[:100], features);"
   ]
  },
  {
   "cell_type": "markdown",
   "metadata": {},
   "source": [
    "A positive SHAP value means the feature pushed the output higher. Negative means it pushed the output lower.\n",
    "\n",
    "It is important to note that, if we train the explainer on a large amount of data (with some compute expenses), the \n",
    "explainer would have learned enough about the model globally to locally explain the interactions for new cases."
   ]
  },
  {
   "cell_type": "markdown",
   "metadata": {},
   "source": [
    "## 7. Model Interpretation"
   ]
  },
  {
   "cell_type": "markdown",
   "metadata": {},
   "source": [
    "While the explainer method we choose, Kernel Shap, to explain our model is considered a black-box method, \n",
    "because we choose a logistic regresion as our class, we can also interrogate each of the coefficients of our \n",
    "model and interpret further the result we got.\n",
    "\n",
    "To do this, we will make use of `statsmodels` to fit a model again because it has a very nice summary table."
   ]
  },
  {
   "cell_type": "code",
   "execution_count": 35,
   "metadata": {},
   "outputs": [],
   "source": [
    "import statsmodels.api as sm"
   ]
  },
  {
   "cell_type": "code",
   "execution_count": 36,
   "metadata": {},
   "outputs": [
    {
     "name": "stdout",
     "output_type": "stream",
     "text": [
      "Optimization terminated successfully.\n",
      "         Current function value: 0.448604\n",
      "         Iterations 7\n"
     ]
    }
   ],
   "source": [
    "log_model = sm.Logit(y_train, sm.add_constant(X_train))\n",
    "log_result = log_model.fit()"
   ]
  },
  {
   "cell_type": "code",
   "execution_count": 37,
   "metadata": {},
   "outputs": [
    {
     "data": {
      "text/html": [
       "<pre style=\"white-space:pre;overflow-x:auto;line-height:normal;font-family:Menlo,'DejaVu Sans Mono',consolas,'Courier New',monospace\">                              Results: Logit\n",
       "==========================================================================\n",
       "Model:                 Logit               Method:              MLE       \n",
       "Dependent Variable:    Outcome             Pseudo R-squared:    <span style=\"color: #008080; text-decoration-color: #008080; font-weight: bold\">0.304</span>     \n",
       "Date:                  <span style=\"color: #008080; text-decoration-color: #008080; font-weight: bold\">2023</span>-<span style=\"color: #008080; text-decoration-color: #008080; font-weight: bold\">09</span>-<span style=\"color: #008080; text-decoration-color: #008080; font-weight: bold\">15</span> <span style=\"color: #00ff00; text-decoration-color: #00ff00; font-weight: bold\">00:09</span>    AIC:                 <span style=\"color: #008080; text-decoration-color: #008080; font-weight: bold\">534.7916</span>  \n",
       "No. Observations:      <span style=\"color: #008080; text-decoration-color: #008080; font-weight: bold\">576</span>                 BIC:                 <span style=\"color: #008080; text-decoration-color: #008080; font-weight: bold\">573.9965</span>  \n",
       "Df Model:              <span style=\"color: #008080; text-decoration-color: #008080; font-weight: bold\">8</span>                   Log-Likelihood:      <span style=\"color: #008080; text-decoration-color: #008080; font-weight: bold\">-258.40</span>   \n",
       "Df Residuals:          <span style=\"color: #008080; text-decoration-color: #008080; font-weight: bold\">567</span>                 LL-Null:             <span style=\"color: #008080; text-decoration-color: #008080; font-weight: bold\">-371.29</span>   \n",
       "Converged:             <span style=\"color: #008080; text-decoration-color: #008080; font-weight: bold\">1.0000</span>              LLR p-value:         <span style=\"color: #008080; text-decoration-color: #008080; font-weight: bold\">2.2933e-44</span>\n",
       "No. Iterations:        <span style=\"color: #008080; text-decoration-color: #008080; font-weight: bold\">7.0000</span>              Scale:               <span style=\"color: #008080; text-decoration-color: #008080; font-weight: bold\">1.0000</span>    \n",
       "--------------------------------------------------------------------------\n",
       "                          Coef.  Std.Err.    z     P&gt;|z|   <span style=\"font-weight: bold\">[</span><span style=\"color: #008080; text-decoration-color: #008080; font-weight: bold\">0.025</span>   <span style=\"color: #008080; text-decoration-color: #008080; font-weight: bold\">0.975</span><span style=\"font-weight: bold\">]</span>\n",
       "--------------------------------------------------------------------------\n",
       "const                    <span style=\"color: #008080; text-decoration-color: #008080; font-weight: bold\">-9.2585</span>   <span style=\"color: #008080; text-decoration-color: #008080; font-weight: bold\">0.8823</span> <span style=\"color: #008080; text-decoration-color: #008080; font-weight: bold\">-10.4939</span> <span style=\"color: #008080; text-decoration-color: #008080; font-weight: bold\">0.0000</span> <span style=\"color: #008080; text-decoration-color: #008080; font-weight: bold\">-10.9877</span> <span style=\"color: #008080; text-decoration-color: #008080; font-weight: bold\">-7.5293</span>\n",
       "Pregnancies               <span style=\"color: #008080; text-decoration-color: #008080; font-weight: bold\">0.1352</span>   <span style=\"color: #008080; text-decoration-color: #008080; font-weight: bold\">0.0383</span>   <span style=\"color: #008080; text-decoration-color: #008080; font-weight: bold\">3.5324</span> <span style=\"color: #008080; text-decoration-color: #008080; font-weight: bold\">0.0004</span>   <span style=\"color: #008080; text-decoration-color: #008080; font-weight: bold\">0.0602</span>  <span style=\"color: #008080; text-decoration-color: #008080; font-weight: bold\">0.2103</span>\n",
       "Glucose                   <span style=\"color: #008080; text-decoration-color: #008080; font-weight: bold\">0.0406</span>   <span style=\"color: #008080; text-decoration-color: #008080; font-weight: bold\">0.0047</span>   <span style=\"color: #008080; text-decoration-color: #008080; font-weight: bold\">8.7366</span> <span style=\"color: #008080; text-decoration-color: #008080; font-weight: bold\">0.0000</span>   <span style=\"color: #008080; text-decoration-color: #008080; font-weight: bold\">0.0315</span>  <span style=\"color: #008080; text-decoration-color: #008080; font-weight: bold\">0.0498</span>\n",
       "BloodPressure            <span style=\"color: #008080; text-decoration-color: #008080; font-weight: bold\">-0.0157</span>   <span style=\"color: #008080; text-decoration-color: #008080; font-weight: bold\">0.0063</span>  <span style=\"color: #008080; text-decoration-color: #008080; font-weight: bold\">-2.5078</span> <span style=\"color: #008080; text-decoration-color: #008080; font-weight: bold\">0.0122</span>  <span style=\"color: #008080; text-decoration-color: #008080; font-weight: bold\">-0.0280</span> <span style=\"color: #008080; text-decoration-color: #008080; font-weight: bold\">-0.0034</span>\n",
       "SkinThickness             <span style=\"color: #008080; text-decoration-color: #008080; font-weight: bold\">0.0006</span>   <span style=\"color: #008080; text-decoration-color: #008080; font-weight: bold\">0.0083</span>   <span style=\"color: #008080; text-decoration-color: #008080; font-weight: bold\">0.0746</span> <span style=\"color: #008080; text-decoration-color: #008080; font-weight: bold\">0.9405</span>  <span style=\"color: #008080; text-decoration-color: #008080; font-weight: bold\">-0.0157</span>  <span style=\"color: #008080; text-decoration-color: #008080; font-weight: bold\">0.0169</span>\n",
       "Insulin                  <span style=\"color: #008080; text-decoration-color: #008080; font-weight: bold\">-0.0016</span>   <span style=\"color: #008080; text-decoration-color: #008080; font-weight: bold\">0.0010</span>  <span style=\"color: #008080; text-decoration-color: #008080; font-weight: bold\">-1.5356</span> <span style=\"color: #008080; text-decoration-color: #008080; font-weight: bold\">0.1246</span>  <span style=\"color: #008080; text-decoration-color: #008080; font-weight: bold\">-0.0036</span>  <span style=\"color: #008080; text-decoration-color: #008080; font-weight: bold\">0.0004</span>\n",
       "BMI                       <span style=\"color: #008080; text-decoration-color: #008080; font-weight: bold\">0.0931</span>   <span style=\"color: #008080; text-decoration-color: #008080; font-weight: bold\">0.0173</span>   <span style=\"color: #008080; text-decoration-color: #008080; font-weight: bold\">5.3868</span> <span style=\"color: #008080; text-decoration-color: #008080; font-weight: bold\">0.0000</span>   <span style=\"color: #008080; text-decoration-color: #008080; font-weight: bold\">0.0592</span>  <span style=\"color: #008080; text-decoration-color: #008080; font-weight: bold\">0.1270</span>\n",
       "DiabetesPedigreeFunction  <span style=\"color: #008080; text-decoration-color: #008080; font-weight: bold\">1.0846</span>   <span style=\"color: #008080; text-decoration-color: #008080; font-weight: bold\">0.3675</span>   <span style=\"color: #008080; text-decoration-color: #008080; font-weight: bold\">2.9510</span> <span style=\"color: #008080; text-decoration-color: #008080; font-weight: bold\">0.0032</span>   <span style=\"color: #008080; text-decoration-color: #008080; font-weight: bold\">0.3643</span>  <span style=\"color: #008080; text-decoration-color: #008080; font-weight: bold\">1.8050</span>\n",
       "Age                       <span style=\"color: #008080; text-decoration-color: #008080; font-weight: bold\">0.0188</span>   <span style=\"color: #008080; text-decoration-color: #008080; font-weight: bold\">0.0113</span>   <span style=\"color: #008080; text-decoration-color: #008080; font-weight: bold\">1.6541</span> <span style=\"color: #008080; text-decoration-color: #008080; font-weight: bold\">0.0981</span>  <span style=\"color: #008080; text-decoration-color: #008080; font-weight: bold\">-0.0035</span>  <span style=\"color: #008080; text-decoration-color: #008080; font-weight: bold\">0.0410</span>\n",
       "==========================================================================\n",
       "\n",
       "</pre>\n"
      ],
      "text/plain": [
       "                              Results: Logit\n",
       "==========================================================================\n",
       "Model:                 Logit               Method:              MLE       \n",
       "Dependent Variable:    Outcome             Pseudo R-squared:    \u001b[1;36m0.304\u001b[0m     \n",
       "Date:                  \u001b[1;36m2023\u001b[0m-\u001b[1;36m09\u001b[0m-\u001b[1;36m15\u001b[0m \u001b[1;92m00:09\u001b[0m    AIC:                 \u001b[1;36m534.7916\u001b[0m  \n",
       "No. Observations:      \u001b[1;36m576\u001b[0m                 BIC:                 \u001b[1;36m573.9965\u001b[0m  \n",
       "Df Model:              \u001b[1;36m8\u001b[0m                   Log-Likelihood:      \u001b[1;36m-258.40\u001b[0m   \n",
       "Df Residuals:          \u001b[1;36m567\u001b[0m                 LL-Null:             \u001b[1;36m-371.29\u001b[0m   \n",
       "Converged:             \u001b[1;36m1.0000\u001b[0m              LLR p-value:         \u001b[1;36m2.2933e-44\u001b[0m\n",
       "No. Iterations:        \u001b[1;36m7.0000\u001b[0m              Scale:               \u001b[1;36m1.0000\u001b[0m    \n",
       "--------------------------------------------------------------------------\n",
       "                          Coef.  Std.Err.    z     P>|z|   \u001b[1m[\u001b[0m\u001b[1;36m0.025\u001b[0m   \u001b[1;36m0.975\u001b[0m\u001b[1m]\u001b[0m\n",
       "--------------------------------------------------------------------------\n",
       "const                    \u001b[1;36m-9.2585\u001b[0m   \u001b[1;36m0.8823\u001b[0m \u001b[1;36m-10.4939\u001b[0m \u001b[1;36m0.0000\u001b[0m \u001b[1;36m-10.9877\u001b[0m \u001b[1;36m-7.5293\u001b[0m\n",
       "Pregnancies               \u001b[1;36m0.1352\u001b[0m   \u001b[1;36m0.0383\u001b[0m   \u001b[1;36m3.5324\u001b[0m \u001b[1;36m0.0004\u001b[0m   \u001b[1;36m0.0602\u001b[0m  \u001b[1;36m0.2103\u001b[0m\n",
       "Glucose                   \u001b[1;36m0.0406\u001b[0m   \u001b[1;36m0.0047\u001b[0m   \u001b[1;36m8.7366\u001b[0m \u001b[1;36m0.0000\u001b[0m   \u001b[1;36m0.0315\u001b[0m  \u001b[1;36m0.0498\u001b[0m\n",
       "BloodPressure            \u001b[1;36m-0.0157\u001b[0m   \u001b[1;36m0.0063\u001b[0m  \u001b[1;36m-2.5078\u001b[0m \u001b[1;36m0.0122\u001b[0m  \u001b[1;36m-0.0280\u001b[0m \u001b[1;36m-0.0034\u001b[0m\n",
       "SkinThickness             \u001b[1;36m0.0006\u001b[0m   \u001b[1;36m0.0083\u001b[0m   \u001b[1;36m0.0746\u001b[0m \u001b[1;36m0.9405\u001b[0m  \u001b[1;36m-0.0157\u001b[0m  \u001b[1;36m0.0169\u001b[0m\n",
       "Insulin                  \u001b[1;36m-0.0016\u001b[0m   \u001b[1;36m0.0010\u001b[0m  \u001b[1;36m-1.5356\u001b[0m \u001b[1;36m0.1246\u001b[0m  \u001b[1;36m-0.0036\u001b[0m  \u001b[1;36m0.0004\u001b[0m\n",
       "BMI                       \u001b[1;36m0.0931\u001b[0m   \u001b[1;36m0.0173\u001b[0m   \u001b[1;36m5.3868\u001b[0m \u001b[1;36m0.0000\u001b[0m   \u001b[1;36m0.0592\u001b[0m  \u001b[1;36m0.1270\u001b[0m\n",
       "DiabetesPedigreeFunction  \u001b[1;36m1.0846\u001b[0m   \u001b[1;36m0.3675\u001b[0m   \u001b[1;36m2.9510\u001b[0m \u001b[1;36m0.0032\u001b[0m   \u001b[1;36m0.3643\u001b[0m  \u001b[1;36m1.8050\u001b[0m\n",
       "Age                       \u001b[1;36m0.0188\u001b[0m   \u001b[1;36m0.0113\u001b[0m   \u001b[1;36m1.6541\u001b[0m \u001b[1;36m0.0981\u001b[0m  \u001b[1;36m-0.0035\u001b[0m  \u001b[1;36m0.0410\u001b[0m\n",
       "==========================================================================\n",
       "\n"
      ]
     },
     "metadata": {},
     "output_type": "display_data"
    }
   ],
   "source": [
    "print(log_result.summary2())"
   ]
  },
  {
   "cell_type": "markdown",
   "metadata": {},
   "source": [
    "In the table above we can examine not only the coefficients of each parameter, but also the standard deviation and \n",
    "AIC and BIC values of our model.\n",
    "\n",
    "Because the coefficients are the logarithms of the odds (i.e. the probability of a positive case over \n",
    "the probability of a negative case), we can convert them back into exponentials to get a better sense of \n",
    "what each value means."
   ]
  },
  {
   "cell_type": "code",
   "execution_count": 38,
   "metadata": {},
   "outputs": [
    {
     "data": {
      "text/plain": [
       "DiabetesPedigreeFunction    2.958285\n",
       "Pregnancies                 1.144798\n",
       "BMI                         1.097590\n",
       "Glucose                     1.041473\n",
       "Age                         1.018949\n",
       "SkinThickness               1.000619\n",
       "Insulin                     0.998413\n",
       "BloodPressure               0.984430\n",
       "const                       0.000095\n",
       "dtype: float64"
      ]
     },
     "execution_count": 38,
     "metadata": {},
     "output_type": "execute_result"
    }
   ],
   "source": [
    "np.exp(log_result.params).sort_values(ascending=False)"
   ]
  },
  {
   "cell_type": "markdown",
   "metadata": {},
   "source": [
    "What do the odds mean for a diabetic patient? It means that the odds of having Diabetes increase by a factor of 2.95 for each additional unit of DiabetesPedigreeFunction, or by 1.14 for every new pregnancy, provided every other feature stays unchanged.\n",
    "\n",
    "We need more context for this, and that can be achieved with the standard deviation."
   ]
  },
  {
   "cell_type": "code",
   "execution_count": 39,
   "metadata": {},
   "outputs": [
    {
     "data": {
      "text/plain": [
       "Glucose                     1.279648\n",
       "BMI                         0.754259\n",
       "Pregnancies                 0.459279\n",
       "DiabetesPedigreeFunction    0.343414\n",
       "BloodPressure               0.305852\n",
       "Age                         0.221264\n",
       "Insulin                     0.185982\n",
       "SkinThickness               0.009797\n",
       "dtype: float64"
      ]
     },
     "execution_count": 39,
     "metadata": {},
     "output_type": "execute_result"
    }
   ],
   "source": [
    "coefs = log_result.params.drop(labels=['const'])\n",
    "stdv = np.std(X_train, 0)\n",
    "abs(coefs * stdv).sort_values(ascending=False)"
   ]
  },
  {
   "cell_type": "markdown",
   "metadata": {},
   "source": [
    "The preceding table can be interpreted as an approximation of risk factors from high to low \n",
    "according to the model. It is also a model-specific feature importance method, and a global one \n",
    "at that (as it was gather from a group of samples). It tells us how far away from the mean each of \n",
    "these values are."
   ]
  },
  {
   "cell_type": "markdown",
   "metadata": {},
   "source": [
    "## 8. Summary"
   ]
  },
  {
   "cell_type": "markdown",
   "metadata": {},
   "source": [
    "1. Explainable AI (XAI) is a set of techniques and methods that enable machine learning models \n",
    "to provide clear, understandable, and human-interpretable explanations for their predictions, \n",
    "helping users develop trust and make informed decisions based on machine learning outputs.\n",
    "\n",
    "2. Kernel SHAP is a specific XAI method that attributes the impact of each input feature on a \n",
    "model's prediction by using a game theoretic framework, providing insights into how features \n",
    "influence the model's outcomes.\n",
    "\n",
    "3. Logistic regression is a statistical model commonly used in machine learning for binary \n",
    "classification tasks. It estimates the probability of a binary outcome by fitting a linear \n",
    "function to input features and applying a logistic (sigmoid) transformation.\n",
    "\n",
    "4. XAI can be used to enhance transparency, accountability, and trust in AI systems, \n",
    "especially in critical domains like healthcare, where decisions based on AI can have significant \n",
    "real-world consequences. XAI helps uncover the black-box nature of complex models and makes \n",
    "their reasoning accessible to human experts.\n",
    "\n",
    "5. Machine Learning can assist in diagnosing diseases in deceased individuals by analyzing medical data, \n",
    "potentially improving the accuracy and efficiency of diagnoses."
   ]
  },
  {
   "cell_type": "code",
   "execution_count": null,
   "metadata": {},
   "outputs": [],
   "source": [
    "from mlserver.codecs import NumpyCodec\n",
    "import requests"
   ]
  },
  {
   "cell_type": "code",
   "execution_count": null,
   "metadata": {},
   "outputs": [],
   "source": [
    "x.values"
   ]
  },
  {
   "cell_type": "code",
   "execution_count": null,
   "metadata": {},
   "outputs": [],
   "source": [
    "inf_request = {\n",
    "    'inputs': [\n",
    "        NumpyCodec.encode_input(name='payload', payload=x.values).dict()\n",
    "    ]\n",
    "}\n",
    "print(inf_request)"
   ]
  },
  {
   "cell_type": "code",
   "execution_count": null,
   "metadata": {},
   "outputs": [],
   "source": [
    "model = 'diabetes_explainer'\n",
    "endpoint = f\"http://0.0.0.0:8080/v2/models/{model}/infer\"\n",
    "r = requests.post(endpoint, json=inf_request)\n",
    "r.json()"
   ]
  },
  {
   "cell_type": "code",
   "execution_count": null,
   "metadata": {},
   "outputs": [],
   "source": []
  },
  {
   "cell_type": "markdown",
   "metadata": {},
   "source": [
    "## 10. Exercises"
   ]
  },
  {
   "cell_type": "markdown",
   "metadata": {},
   "source": []
  }
 ],
 "metadata": {
  "kernelspec": {
   "display_name": "xai",
   "language": "python",
   "name": "python3"
  },
  "language_info": {
   "codemirror_mode": {
    "name": "ipython",
    "version": 3
   },
   "file_extension": ".py",
   "mimetype": "text/x-python",
   "name": "python",
   "nbconvert_exporter": "python",
   "pygments_lexer": "ipython3",
   "version": "3.10.12"
  },
  "orig_nbformat": 4
 },
 "nbformat": 4,
 "nbformat_minor": 2
}
